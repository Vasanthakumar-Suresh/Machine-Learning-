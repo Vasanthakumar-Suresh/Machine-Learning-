{
  "cells": [
    {
      "cell_type": "code",
      "execution_count": 1,
      "metadata": {},
      "outputs": [
        {
          "name": "stdout",
          "output_type": "stream",
          "text": [
            "VASANTHAKUMAR S CH.SC.U4CSE23257\n"
          ]
        }
      ],
      "source": [
        "print(\"VASANTHAKUMAR S CH.SC.U4CSE23257\")"
      ]
    },
    {
      "cell_type": "code",
      "execution_count": 1,
      "metadata": {
        "id": "X7uV8YPWfaVO"
      },
      "outputs": [],
      "source": [
        "import pandas as pd\n",
        "import numpy as np\n"
      ]
    },
    {
      "cell_type": "code",
      "execution_count": null,
      "metadata": {
        "id": "cE-UbnSBff_9"
      },
      "outputs": [],
      "source": [
        "\n",
        "\n",
        "data = {\n",
        "    'Variable': ['Climate','Housing','Health','Crime','Transportation','Education','Arts','Recreation','Economy'],\n",
        "    'PC1': [0.190, 0.544, 0.782, 0.365, 0.585, 0.394, 0.985, 0.520, 0.142],\n",
        "    'PC2': [0.017, 0.020, -0.605, 0.294, 0.085, -0.273, 0.126, 0.402, 0.150],\n",
        "    'PC3': [0.207, 0.204, 0.144, 0.585, 0.234, 0.027, -0.111, 0.519, 0.239]\n",
        "}\n"
      ]
    },
    {
      "cell_type": "code",
      "execution_count": 3,
      "metadata": {
        "colab": {
          "base_uri": "https://localhost:8080/"
        },
        "id": "nwT7usVHfim7",
        "outputId": "e0e1cd52-249b-4e5b-87f3-606b99207043"
      },
      "outputs": [
        {
          "name": "stdout",
          "output_type": "stream",
          "text": [
            "Dataset:\n",
            "                   PC1    PC2    PC3\n",
            "Variable                           \n",
            "Climate         0.190  0.017  0.207\n",
            "Housing         0.544  0.020  0.204\n",
            "Health          0.782 -0.605  0.144\n",
            "Crime           0.365  0.294  0.585\n",
            "Transportation  0.585  0.085  0.234\n",
            "Education       0.394 -0.273  0.027\n",
            "Arts            0.985  0.126 -0.111\n",
            "Recreation      0.520  0.402  0.519\n",
            "Economy         0.142  0.150  0.239 \n",
            "\n"
          ]
        }
      ],
      "source": [
        "data = {\n",
        "    'Variable': ['Climate','Housing','Health','Crime','Transportation','Education','Arts','Recreation','Economy'],\n",
        "    'PC1': [0.190, 0.544, 0.782, 0.365, 0.585, 0.394, 0.985, 0.520, 0.142],\n",
        "    'PC2': [0.017, 0.020, -0.605, 0.294, 0.085, -0.273, 0.126, 0.402, 0.150],\n",
        "    'PC3': [0.207, 0.204, 0.144, 0.585, 0.234, 0.027, -0.111, 0.519, 0.239]\n",
        "}\n",
        "\n",
        "df = pd.DataFrame(data)\n",
        "df.set_index('Variable', inplace=True)\n",
        "\n",
        "print(\"Dataset:\\n\", df, \"\\n\")"
      ]
    },
    {
      "cell_type": "code",
      "execution_count": 5,
      "metadata": {
        "colab": {
          "base_uri": "https://localhost:8080/"
        },
        "id": "3i-ARtWLfm9G",
        "outputId": "52fdcc11-7260-4a5a-831b-4b3ebc68ae4c"
      },
      "outputs": [
        {
          "name": "stdout",
          "output_type": "stream",
          "text": [
            "Highest contributor to PC1: Arts (loading = 0.985)\n",
            "Highest contributor to PC2: Health (loading = -0.605)\n",
            "Highest contributor to PC3: Crime (loading = 0.585)\n"
          ]
        }
      ],
      "source": [
        "for pc in ['PC1','PC2','PC3']:\n",
        "    max_var = df[pc].abs().idxmax()\n",
        "    max_val = df.loc[max_var, pc]\n",
        "    print(f\"Highest contributor to {pc}: {max_var} (loading = {max_val})\")"
      ]
    },
    {
      "cell_type": "code",
      "execution_count": 6,
      "metadata": {
        "colab": {
          "base_uri": "https://localhost:8080/"
        },
        "id": "hvYpZ4MogM1T",
        "outputId": "e2e17e64-bd93-432f-c1d4-432612c6fe15"
      },
      "outputs": [
        {
          "name": "stdout",
          "output_type": "stream",
          "text": [
            "\n",
            "Overall strongest contributor: Arts (loading = 0.985)\n"
          ]
        }
      ],
      "source": [
        "\n",
        "abs_df = df.abs()\n",
        "overall_max_var = abs_df.max(axis=1).idxmax()\n",
        "overall_max_val = abs_df.max(axis=1).max()\n",
        "print(f\"\\nOverall strongest contributor: {overall_max_var} (loading = {overall_max_val})\")\n"
      ]
    }
  ],
  "metadata": {
    "colab": {
      "provenance": []
    },
    "kernelspec": {
      "display_name": "Python 3",
      "name": "python3"
    },
    "language_info": {
      "codemirror_mode": {
        "name": "ipython",
        "version": 3
      },
      "file_extension": ".py",
      "mimetype": "text/x-python",
      "name": "python",
      "nbconvert_exporter": "python",
      "pygments_lexer": "ipython3",
      "version": "3.12.0"
    }
  },
  "nbformat": 4,
  "nbformat_minor": 0
}
